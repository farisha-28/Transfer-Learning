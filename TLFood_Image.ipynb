{
  "nbformat": 4,
  "nbformat_minor": 0,
  "metadata": {
    "colab": {
      "provenance": [],
      "authorship_tag": "ABX9TyOiAhMSTkVHPOh1a86O27JR"
    },
    "kernelspec": {
      "name": "python3",
      "display_name": "Python 3"
    },
    "language_info": {
      "name": "python"
    }
  },
  "cells": [
    {
      "cell_type": "code",
      "execution_count": 3,
      "metadata": {
        "id": "uS_SButZHjKT"
      },
      "outputs": [],
      "source": [
        "from tensorflow.keras.layers import Input, Dense, Flatten\n",
        "from tensorflow.keras.applications.vgg16 import VGG16 as PretrainedModel, \\\n",
        "  preprocess_input\n",
        "from tensorflow.keras.models import Model\n",
        "from tensorflow.keras.optimizers import SGD, Adam\n",
        "from tensorflow.keras.preprocessing import image\n",
        "from tensorflow.keras.preprocessing.image import ImageDataGenerator\n",
        "\n",
        "from glob import glob\n",
        "\n",
        "import numpy as np\n",
        "import pandas as pd\n",
        "import matplotlib.pyplot as plt\n",
        "import sys, os"
      ]
    },
    {
      "cell_type": "code",
      "source": [
        "from google.colab import drive\n",
        "drive.mount('/content/drive')"
      ],
      "metadata": {
        "colab": {
          "base_uri": "https://localhost:8080/"
        },
        "id": "Je4wYTsirAXd",
        "outputId": "e0f88d9f-4775-45ba-ff0d-6d78e6c7379c"
      },
      "execution_count": 18,
      "outputs": [
        {
          "output_type": "stream",
          "name": "stdout",
          "text": [
            "Drive already mounted at /content/drive; to attempt to forcibly remount, call drive.mount(\"/content/drive\", force_remount=True).\n"
          ]
        }
      ]
    },
    {
      "cell_type": "code",
      "source": [
        "!pip install kaggle"
      ],
      "metadata": {
        "id": "hF34z5vZrYS0"
      },
      "execution_count": null,
      "outputs": []
    },
    {
      "cell_type": "code",
      "source": [
        "# Set Kaggle Configuration: To direct Kaggle to the appropriate directory in Drive\n",
        "\n",
        "import os\n",
        "os.environ['KAGGLE_CONFIG_DIR'] = '/content/drive/MyDrive/KaggleDatasets'"
      ],
      "metadata": {
        "id": "XsLwcEtNrer-"
      },
      "execution_count": 20,
      "outputs": []
    },
    {
      "cell_type": "code",
      "source": [
        "!kaggle datasets download -d trolukovich/food5k-image-dataset"
      ],
      "metadata": {
        "colab": {
          "base_uri": "https://localhost:8080/"
        },
        "id": "18PCU3IpwGYW",
        "outputId": "9430189b-adaa-42a7-ad24-7451cfbade01"
      },
      "execution_count": 26,
      "outputs": [
        {
          "output_type": "stream",
          "name": "stdout",
          "text": [
            "food5k-image-dataset.zip: Skipping, found more recently modified local copy (use --force to force download)\n"
          ]
        }
      ]
    },
    {
      "cell_type": "code",
      "source": [
        "import zipfile\n",
        "# Define the path to the zip file\n",
        "file_path = '/content/food5k-image-dataset.zip'\n",
        "\n",
        "# Unzip the file to a specific destination\n",
        "with zipfile.ZipFile(file_path, 'r') as zip_ref:\n",
        "    zip_ref.extractall('/content/drive/MyDrive/KaggleDatasets')  # Folder name where to extract the zip file"
      ],
      "metadata": {
        "id": "pKCpNPGarYPC"
      },
      "execution_count": 33,
      "outputs": []
    },
    {
      "cell_type": "code",
      "source": [
        "os.chdir('/content/drive/MyDrive/KaggleDatasets')\n",
        "!ls"
      ],
      "metadata": {
        "colab": {
          "base_uri": "https://localhost:8080/"
        },
        "id": "dA1ypA2Gq_xv",
        "outputId": "b61c8fab-87c4-46c8-dd96-b4841eec8353"
      },
      "execution_count": 36,
      "outputs": [
        {
          "output_type": "stream",
          "name": "stdout",
          "text": [
            "evaluation  kaggle.json  training  validation\n"
          ]
        }
      ]
    },
    {
      "cell_type": "code",
      "source": [
        "!ls training"
      ],
      "metadata": {
        "colab": {
          "base_uri": "https://localhost:8080/"
        },
        "id": "I3j24l5hzOBQ",
        "outputId": "f69c761a-3547-435a-f09c-00a37a47e9eb"
      },
      "execution_count": 37,
      "outputs": [
        {
          "output_type": "stream",
          "name": "stdout",
          "text": [
            "food  non_food\n"
          ]
        }
      ]
    },
    {
      "cell_type": "code",
      "source": [
        "# Make directories to store data in Keras Style\n",
        "# !mkdir data"
      ],
      "metadata": {
        "id": "4TTppd7Zz8nb"
      },
      "execution_count": 38,
      "outputs": []
    },
    {
      "cell_type": "code",
      "source": [
        "# !mkdir data/train\n",
        "# !mkdir data/test\n",
        "# !mkdir data/train/food\n",
        "# !mkdir data/train/nonfood\n",
        "# !mkdir data/test/food\n",
        "# !mkdir data/test/nonfood\n"
      ],
      "metadata": {
        "id": "DcuK6dWL1ght"
      },
      "execution_count": null,
      "outputs": []
    },
    {
      "cell_type": "code",
      "source": [
        "# Move the images from original downloaded data to directory folders\n",
        "# Training to be training set, test data to be testing set, ignoring evaluation set\n",
        "\n",
        "# !mv training/0*.jpg data/train/nonfood\n",
        "# !mv training/1*.jpg data/train/food\n",
        "# !mv validation/0*.jpg data/test/nonfood\n",
        "# !mv validation/1*.jpg data/test/food"
      ],
      "metadata": {
        "id": "21PA3jQq1gd-"
      },
      "execution_count": null,
      "outputs": []
    },
    {
      "cell_type": "code",
      "source": [
        "# train_path= 'data/train'\n",
        "# valid_path= 'data/test'"
      ],
      "metadata": {
        "id": "Gt3DVCxu1gZ5"
      },
      "execution_count": null,
      "outputs": []
    },
    {
      "cell_type": "code",
      "source": [
        "Image_size = [200, 200]"
      ],
      "metadata": {
        "id": "HR3Fwp-NIA4D"
      },
      "execution_count": null,
      "outputs": []
    },
    {
      "cell_type": "code",
      "source": [
        "# Get list of image files using glob function\n",
        "\n",
        "image_files= glob()"
      ],
      "metadata": {
        "id": "zm6W1nu8IA0C"
      },
      "execution_count": null,
      "outputs": []
    },
    {
      "cell_type": "code",
      "source": [],
      "metadata": {
        "id": "kjN6-shEIAbw"
      },
      "execution_count": null,
      "outputs": []
    },
    {
      "cell_type": "code",
      "source": [],
      "metadata": {
        "id": "TvgDLPhMIAYI"
      },
      "execution_count": null,
      "outputs": []
    }
  ]
}